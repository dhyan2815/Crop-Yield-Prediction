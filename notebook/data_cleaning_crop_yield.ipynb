{
 "cells": [
  {
   "cell_type": "code",
   "execution_count": 1,
   "id": "9548dc63-62c1-4f15-b874-3310334396de",
   "metadata": {},
   "outputs": [],
   "source": [
    "# Import Libraries\n",
    "import pandas as pd"
   ]
  },
  {
   "cell_type": "code",
   "execution_count": 2,
   "id": "40e1b024-37e0-44c4-9683-13d25f7978c1",
   "metadata": {},
   "outputs": [],
   "source": [
    "# Reading the crop yield CSV file with proper parsing for quotes and initial spaces\n",
    "\n",
    "file_path = '../data/raw/Crop_Yield_Data.csv'  \n",
    "\n",
    "df = pd.read_csv(file_path, skipinitialspace=True, quotechar='\"')"
   ]
  },
  {
   "cell_type": "code",
   "execution_count": 3,
   "id": "0ef33032",
   "metadata": {},
   "outputs": [
    {
     "name": "stdout",
     "output_type": "stream",
     "text": [
      "Index(['Domain Code', 'Domain', 'Area Code (M49)', 'Area', 'Element Code',\n",
      "       'Element', 'Item Code (CPC)', 'Item', 'Year Code', 'Year', 'Unit',\n",
      "       'Value', 'Flag', 'Flag Description', 'Note'],\n",
      "      dtype='object')\n"
     ]
    }
   ],
   "source": [
    "# Stripping leading/trailing whitespaces from column names\n",
    "\n",
    "df.columns = df.columns.str.strip()\n",
    "\n",
    "print(df.columns)"
   ]
  },
  {
   "cell_type": "code",
   "execution_count": 4,
   "id": "79cfba00",
   "metadata": {},
   "outputs": [
    {
     "name": "stdout",
     "output_type": "stream",
     "text": [
      "['Area harvested' 'Yield' 'Production']\n"
     ]
    }
   ],
   "source": [
    "# Stripping leading/trailing whitespaces from the 'Element' column\n",
    "\n",
    "df['Element'] = df['Element'].str.strip()\n",
    "\n",
    "print(df['Element'].unique())"
   ]
  },
  {
   "cell_type": "code",
   "execution_count": 5,
   "id": "cce825dc-5832-4edd-918a-2e51ea9babb9",
   "metadata": {},
   "outputs": [],
   "source": [
    "# Filtering the DataFrame to only include rows where the Element is 'Yield'\n",
    "\n",
    "yield_df = df[df['Element'] == 'Yield'].copy()"
   ]
  },
  {
   "cell_type": "code",
   "execution_count": 132,
   "id": "dfd770d1-be26-47ef-9c87-7f833ae0b0bd",
   "metadata": {},
   "outputs": [],
   "source": [
    "# Keeping only relevant columns: Year, Item, Value, and Unit\n",
    "\n",
    "yield_df = yield_df[['Year', 'Item', 'Value', 'Unit']]"
   ]
  },
  {
   "cell_type": "code",
   "execution_count": 133,
   "id": "f57df270-69fc-46b8-a6d8-13a4bbba74a9",
   "metadata": {},
   "outputs": [],
   "source": [
    "# Dropping rows where 'Value' is missing (NaN)\n",
    "\n",
    "yield_df = yield_df.dropna(subset=['Value'])"
   ]
  },
  {
   "cell_type": "code",
   "execution_count": 134,
   "id": "cafb225e-2e7a-4dc6-95b8-f205e0bf2ab4",
   "metadata": {},
   "outputs": [
    {
     "name": "stdout",
     "output_type": "stream",
     "text": [
      "Unique units before conversion: ['kg/ha']\n"
     ]
    }
   ],
   "source": [
    "# Checking the unique units present before any conversion\n",
    "\n",
    "print(\"Unique units before conversion:\", yield_df['Unit'].unique())"
   ]
  },
  {
   "cell_type": "code",
   "execution_count": 135,
   "id": "582d4d9c-ad71-49c4-a816-cd077c414c1f",
   "metadata": {},
   "outputs": [],
   "source": [
    "# Converting values from tonnes per hectare (t/ha) to kilograms per hectare (kg/ha)\n",
    "\n",
    "yield_df.loc[yield_df['Unit'] == 't/ha', 'Value'] *= 1000"
   ]
  },
  {
   "cell_type": "code",
   "execution_count": 136,
   "id": "8e51aa30-7dc5-4baf-b3e7-58e4824c7ce4",
   "metadata": {},
   "outputs": [],
   "source": [
    "# Updating the unit label from 't/ha' to 'kg/ha' after conversion\n",
    "\n",
    "yield_df.loc[yield_df['Unit'] == 't/ha', 'Unit'] = 'kg/ha'"
   ]
  },
  {
   "cell_type": "code",
   "execution_count": 137,
   "id": "9131d3a1-25b3-48c6-ae3c-07df16d2e588",
   "metadata": {},
   "outputs": [],
   "source": [
    "# Filtering the DataFrame to include only rows with unit 'kg/ha'\n",
    "\n",
    "yield_df = yield_df[yield_df['Unit'] == 'kg/ha']"
   ]
  },
  {
   "cell_type": "code",
   "execution_count": 138,
   "id": "7ed16afc-4a51-4e56-bf95-d5133410b768",
   "metadata": {},
   "outputs": [],
   "source": [
    "# Renaming columns for clarity\n",
    "\n",
    "yield_df.rename(columns={\n",
    "    'Item': 'Crop',\n",
    "    'Value': 'Yield_kg_per_ha'\n",
    "}, inplace=True)"
   ]
  },
  {
   "cell_type": "code",
   "execution_count": 139,
   "id": "ae4affe2",
   "metadata": {},
   "outputs": [
    {
     "name": "stdout",
     "output_type": "stream",
     "text": [
      "Year                 int64\n",
      "Crop                object\n",
      "Yield_kg_per_ha    float64\n",
      "Unit                object\n",
      "dtype: object\n"
     ]
    }
   ],
   "source": [
    "# Ensuring the 'Yield_kg_per_ha' column is numeric (not string)\n",
    "\n",
    "yield_df['Yield_kg_per_ha'] = pd.to_numeric(yield_df['Yield_kg_per_ha'], errors='coerce')\n",
    "\n",
    "print(yield_df.dtypes)"
   ]
  },
  {
   "cell_type": "code",
   "execution_count": 140,
   "id": "a792aa23-4348-45f6-8b9a-e1f118e2854a",
   "metadata": {},
   "outputs": [],
   "source": [
    "# Resetting the index of the DataFrame after filtering and transformations\n",
    "\n",
    "yield_df.reset_index(drop=True, inplace=True)"
   ]
  },
  {
   "cell_type": "code",
   "execution_count": 141,
   "id": "526a8085",
   "metadata": {},
   "outputs": [],
   "source": [
    "# Removing the 'Unit' column from the DataFrame after filtering and transformations\n",
    "\n",
    "yield_df.drop(columns='Unit', inplace=True)"
   ]
  },
  {
   "cell_type": "code",
   "execution_count": 142,
   "id": "a2ced054-025f-4248-9162-2093b1df2664",
   "metadata": {},
   "outputs": [],
   "source": [
    "# Exporting the processed yield data to a new CSV file\n",
    "\n",
    "processed_file_path = '../data/processed/Processed_Crop_Yield.csv'\n",
    "\n",
    "yield_df.to_csv(processed_file_path, index=False)"
   ]
  },
  {
   "cell_type": "code",
   "execution_count": 143,
   "id": "960e76c3-fe92-44bd-96fb-e1370eea0afd",
   "metadata": {},
   "outputs": [
    {
     "name": "stdout",
     "output_type": "stream",
     "text": [
      "Processed Crop Yield Data (first 5 rows):\n",
      "   Year                                               Crop  Yield_kg_per_ha\n",
      "0  1961  Anise, badian, coriander, cumin, caraway, fenn...            500.0\n",
      "1  1962  Anise, badian, coriander, cumin, caraway, fenn...            500.0\n",
      "2  1963  Anise, badian, coriander, cumin, caraway, fenn...            500.0\n",
      "3  1964  Anise, badian, coriander, cumin, caraway, fenn...            500.0\n",
      "4  1965  Anise, badian, coriander, cumin, caraway, fenn...            500.0\n"
     ]
    }
   ],
   "source": [
    "# Displaying the first 5 rows of the cleaned and processed crop yield data\n",
    "\n",
    "print(\"Processed Crop Yield Data (first 5 rows):\")\n",
    "print(yield_df.head())"
   ]
  }
 ],
 "metadata": {
  "kernelspec": {
   "display_name": "base",
   "language": "python",
   "name": "python3"
  },
  "language_info": {
   "codemirror_mode": {
    "name": "ipython",
    "version": 3
   },
   "file_extension": ".py",
   "mimetype": "text/x-python",
   "name": "python",
   "nbconvert_exporter": "python",
   "pygments_lexer": "ipython3",
   "version": "3.12.4"
  }
 },
 "nbformat": 4,
 "nbformat_minor": 5
}
