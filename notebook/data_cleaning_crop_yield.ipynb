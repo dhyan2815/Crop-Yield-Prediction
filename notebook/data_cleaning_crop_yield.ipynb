{
  "cells": [
    {
      "cell_type": "markdown",
      "metadata": {
        "id": "view-in-github",
        "colab_type": "text"
      },
      "source": [
        "<a href=\"https://colab.research.google.com/github/dhyan2815/Crop-Yield-Prediction/blob/main/notebook/data_cleaning_crop_yield.ipynb\" target=\"_parent\"><img src=\"https://colab.research.google.com/assets/colab-badge.svg\" alt=\"Open In Colab\"/></a>"
      ]
    },
    {
      "cell_type": "code",
      "execution_count": 2,
      "id": "9fb72dc0",
      "metadata": {
        "id": "9fb72dc0",
        "outputId": "65604ca9-ad52-442f-a136-a8036e9aab66",
        "colab": {
          "base_uri": "https://localhost:8080/"
        }
      },
      "outputs": [
        {
          "output_type": "stream",
          "name": "stdout",
          "text": [
            "Cloning into 'Crop-Yield-Prediction'...\n",
            "remote: Enumerating objects: 48, done.\u001b[K\n",
            "remote: Counting objects: 100% (48/48), done.\u001b[K\n",
            "remote: Compressing objects: 100% (33/33), done.\u001b[K\n",
            "remote: Total 48 (delta 14), reused 38 (delta 6), pack-reused 0 (from 0)\u001b[K\n",
            "Receiving objects: 100% (48/48), 5.22 MiB | 10.61 MiB/s, done.\n",
            "Resolving deltas: 100% (14/14), done.\n"
          ]
        }
      ],
      "source": [
        "import pandas as pd\n",
        "import os\n",
        "\n",
        "# clone github repo\n",
        "!git clone https://github.com/dhyan2815/Crop-Yield-Prediction.git"
      ]
    },
    {
      "cell_type": "code",
      "source": [
        "repo_name = 'Crop-Yield-Prediction'\n",
        "\n",
        "# to locate the crop_yield data\n",
        "data_path = os.path.join(repo_name, 'data', 'Crop_Yield_Data.csv')\n",
        "\n",
        "# Load data\n",
        "crop_df = pd.read_csv(data_path)"
      ],
      "metadata": {
        "id": "r8oMYlc1dpb0"
      },
      "id": "r8oMYlc1dpb0",
      "execution_count": 17,
      "outputs": []
    }
  ],
  "metadata": {
    "kernelspec": {
      "display_name": "base",
      "language": "python",
      "name": "python3"
    },
    "language_info": {
      "name": "python",
      "version": "3.12.4"
    },
    "colab": {
      "provenance": [],
      "include_colab_link": true
    }
  },
  "nbformat": 4,
  "nbformat_minor": 5
}