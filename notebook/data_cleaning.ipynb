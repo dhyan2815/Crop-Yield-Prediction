{
  "cells": [
    {
      "cell_type": "code",
      "execution_count": null,
      "id": "9fb72dc0",
      "metadata": {
        "id": "9fb72dc0"
      },
      "outputs": [],
      "source": [
        "# Import Libraries"
      ]
    }
  ],
  "metadata": {
    "kernelspec": {
      "display_name": "base",
      "language": "python",
      "name": "python3"
    },
    "language_info": {
      "name": "python",
      "version": "3.12.4"
    },
    "colab": {
      "provenance": []
    }
  },
  "nbformat": 4,
  "nbformat_minor": 5
}