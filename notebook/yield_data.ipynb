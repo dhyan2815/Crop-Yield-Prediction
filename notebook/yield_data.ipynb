{
 "cells": [
  {
   "cell_type": "code",
   "execution_count": 1,
   "id": "9548dc63-62c1-4f15-b874-3310334396de",
   "metadata": {},
   "outputs": [],
   "source": [
    "import pandas as pd"
   ]
  },
  {
   "cell_type": "code",
   "execution_count": 2,
   "id": "40e1b024-37e0-44c4-9683-13d25f7978c1",
   "metadata": {},
   "outputs": [],
   "source": [
    "file_path = 'Crop_Yield_Data.csv'  \n",
    "df = pd.read_csv(file_path)"
   ]
  },
  {
   "cell_type": "code",
   "execution_count": 3,
   "id": "cce825dc-5832-4edd-918a-2e51ea9babb9",
   "metadata": {},
   "outputs": [],
   "source": [
    "yield_df = df[df['Element'] == 'Yield'].copy()"
   ]
  },
  {
   "cell_type": "code",
   "execution_count": 4,
   "id": "dfd770d1-be26-47ef-9c87-7f833ae0b0bd",
   "metadata": {},
   "outputs": [],
   "source": [
    "yield_df = yield_df[['Year', 'Item', 'Value', 'Unit']]"
   ]
  },
  {
   "cell_type": "code",
   "execution_count": 5,
   "id": "f57df270-69fc-46b8-a6d8-13a4bbba74a9",
   "metadata": {},
   "outputs": [],
   "source": [
    "yield_df = yield_df.dropna(subset=['Value'])"
   ]
  },
  {
   "cell_type": "code",
   "execution_count": 6,
   "id": "cafb225e-2e7a-4dc6-95b8-f205e0bf2ab4",
   "metadata": {},
   "outputs": [
    {
     "name": "stdout",
     "output_type": "stream",
     "text": [
      "Unique units before conversion: ['kg/ha']\n"
     ]
    }
   ],
   "source": [
    "print(\"Unique units before conversion:\", yield_df['Unit'].unique())"
   ]
  },
  {
   "cell_type": "code",
   "execution_count": 7,
   "id": "582d4d9c-ad71-49c4-a816-cd077c414c1f",
   "metadata": {},
   "outputs": [],
   "source": [
    "yield_df.loc[yield_df['Unit'] == 't/ha', 'Value'] *= 1000"
   ]
  },
  {
   "cell_type": "code",
   "execution_count": 8,
   "id": "8e51aa30-7dc5-4baf-b3e7-58e4824c7ce4",
   "metadata": {},
   "outputs": [],
   "source": [
    "yield_df.loc[yield_df['Unit'] == 't/ha', 'Unit'] = 'kg/ha'"
   ]
  },
  {
   "cell_type": "code",
   "execution_count": 9,
   "id": "9131d3a1-25b3-48c6-ae3c-07df16d2e588",
   "metadata": {},
   "outputs": [],
   "source": [
    "yield_df = yield_df[yield_df['Unit'] == 'kg/ha']"
   ]
  },
  {
   "cell_type": "code",
   "execution_count": 10,
   "id": "7ed16afc-4a51-4e56-bf95-d5133410b768",
   "metadata": {},
   "outputs": [],
   "source": [
    "yield_df.rename(columns={\n",
    "    'Item': 'Crop',\n",
    "    'Value': 'Yield_kg_per_ha'\n",
    "}, inplace=True)"
   ]
  },
  {
   "cell_type": "code",
   "execution_count": 11,
   "id": "a792aa23-4348-45f6-8b9a-e1f118e2854a",
   "metadata": {},
   "outputs": [],
   "source": [
    "yield_df.reset_index(drop=True, inplace=True)"
   ]
  },
  {
   "cell_type": "code",
   "execution_count": 12,
   "id": "a2ced054-025f-4248-9162-2093b1df2664",
   "metadata": {},
   "outputs": [],
   "source": [
    "yield_df.to_csv('Processed_Crop_Yield.csv', index=False)"
   ]
  },
  {
   "cell_type": "code",
   "execution_count": null,
   "id": "960e76c3-fe92-44bd-96fb-e1370eea0afd",
   "metadata": {},
   "outputs": [],
   "source": [
    "print(\"Processed Crop Yield Data (first 5 rows):\")\n",
    "print(yield_df.head())"
   ]
  }
 ],
 "metadata": {
  "kernelspec": {
   "display_name": "Python 3 (ipykernel)",
   "language": "python",
   "name": "python3"
  },
  "language_info": {
   "codemirror_mode": {
    "name": "ipython",
    "version": 3
   },
   "file_extension": ".py",
   "mimetype": "text/x-python",
   "name": "python",
   "nbconvert_exporter": "python",
   "pygments_lexer": "ipython3",
   "version": "3.12.4"
  }
 },
 "nbformat": 4,
 "nbformat_minor": 5
}
